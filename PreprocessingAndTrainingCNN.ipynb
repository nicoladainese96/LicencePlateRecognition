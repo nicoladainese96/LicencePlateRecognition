{
 "cells": [
  {
   "cell_type": "code",
   "execution_count": 1,
   "metadata": {},
   "outputs": [],
   "source": [
    "import numpy as np\n",
    "import matplotlib.pyplot as plt\n",
    "import torch"
   ]
  },
  {
   "cell_type": "markdown",
   "metadata": {},
   "source": [
    "## Preprocessing training dataset\n",
    "\n",
    "Download the dataset at http://www.ee.surrey.ac.uk/CVSSP/demos/chars74k/ -> EnglishFnt.tgz -> Take folders from Sample001 to Sample036 and copy them in a folder '0-9_and_A-Z' in the same directory of this notebook.\n",
    "\n",
    "- resize from 128x128 to 32x32;\n",
    "- label all images (they are collected in different folders, in order from 0 to 9 and then from A to Z);\n",
    "- convert them into torch tensors."
   ]
  },
  {
   "cell_type": "code",
   "execution_count": 2,
   "metadata": {},
   "outputs": [],
   "source": [
    "# some fonts used are completely misleading, thus I checked them and we are going to filter them out manually\n",
    "\n",
    "index = \\\n",
    "[i for i in range(161,165)] +\\\n",
    "[i for i in range(209,213)] +\\\n",
    "[i for i in range(293,297)] +\\\n",
    "[i for i in range(385,389)] +\\\n",
    "[i for i in range(401,403)] +\\\n",
    "[i for i in range(501,505)] +\\\n",
    "[i for i in range(529,533)] +\\\n",
    "[i for i in range(557,561)] +\\\n",
    "[i for i in range(613,617)] +\\\n",
    "[i for i in range(629,633)] +\\\n",
    "[i for i in range(689,693)] +\\\n",
    "[i for i in range(701,705)] +\\\n",
    "[i for i in range(753,761)] +\\\n",
    "[i for i in range(777,793)] +\\\n",
    "[i for i in range(805,809)] +\\\n",
    "[i for i in range(873,881)] +\\\n",
    "[i for i in range(941,945)] +\\\n",
    "[i for i in range(993,1001)]\n",
    "\n",
    "index = np.array(index) - 1 #offset in the indexing\n",
    "\n",
    "mask = np.ones(1016)\n",
    "for i in index:\n",
    "    mask[i] = 0\n",
    "mask = mask.astype(bool)"
   ]
  },
  {
   "cell_type": "code",
   "execution_count": 3,
   "metadata": {},
   "outputs": [],
   "source": [
    "import skimage\n",
    "from os import walk"
   ]
  },
  {
   "cell_type": "code",
   "execution_count": 4,
   "metadata": {
    "scrolled": true
   },
   "outputs": [
    {
     "name": "stdout",
     "output_type": "stream",
     "text": [
      "Number of files in 0-9_and_A-Z/Sample001 :  1016 \n",
      "\n"
     ]
    },
    {
     "name": "stderr",
     "output_type": "stream",
     "text": [
      "/home/nicola/anaconda3/envs/torch/lib/python3.7/site-packages/skimage/transform/_warps.py:23: UserWarning: The default multichannel argument (None) is deprecated.  Please specify either True or False explicitly.  multichannel will default to False starting with release 0.16.\n",
      "  warn('The default multichannel argument (None) is deprecated.  Please '\n"
     ]
    },
    {
     "name": "stdout",
     "output_type": "stream",
     "text": [
      "Number of files in 0-9_and_A-Z/Sample002 :  1016 \n",
      "\n",
      "Number of files in 0-9_and_A-Z/Sample003 :  1016 \n",
      "\n",
      "Number of files in 0-9_and_A-Z/Sample004 :  1016 \n",
      "\n",
      "Number of files in 0-9_and_A-Z/Sample005 :  1016 \n",
      "\n",
      "Number of files in 0-9_and_A-Z/Sample006 :  1016 \n",
      "\n",
      "Number of files in 0-9_and_A-Z/Sample007 :  1016 \n",
      "\n",
      "Number of files in 0-9_and_A-Z/Sample008 :  1016 \n",
      "\n",
      "Number of files in 0-9_and_A-Z/Sample009 :  1016 \n",
      "\n",
      "Number of files in 0-9_and_A-Z/Sample010 :  1016 \n",
      "\n",
      "Number of files in 0-9_and_A-Z/Sample011 :  1016 \n",
      "\n",
      "Number of files in 0-9_and_A-Z/Sample012 :  1016 \n",
      "\n",
      "Number of files in 0-9_and_A-Z/Sample013 :  1016 \n",
      "\n",
      "Number of files in 0-9_and_A-Z/Sample014 :  1016 \n",
      "\n",
      "Number of files in 0-9_and_A-Z/Sample015 :  1016 \n",
      "\n",
      "Number of files in 0-9_and_A-Z/Sample016 :  1016 \n",
      "\n",
      "Number of files in 0-9_and_A-Z/Sample017 :  1016 \n",
      "\n",
      "Number of files in 0-9_and_A-Z/Sample018 :  1016 \n",
      "\n",
      "Number of files in 0-9_and_A-Z/Sample019 :  1016 \n",
      "\n",
      "Number of files in 0-9_and_A-Z/Sample020 :  1016 \n",
      "\n",
      "Number of files in 0-9_and_A-Z/Sample021 :  1016 \n",
      "\n",
      "Number of files in 0-9_and_A-Z/Sample022 :  1016 \n",
      "\n",
      "Number of files in 0-9_and_A-Z/Sample023 :  1016 \n",
      "\n",
      "Number of files in 0-9_and_A-Z/Sample024 :  1016 \n",
      "\n",
      "Number of files in 0-9_and_A-Z/Sample025 :  1016 \n",
      "\n",
      "Number of files in 0-9_and_A-Z/Sample026 :  1016 \n",
      "\n",
      "Number of files in 0-9_and_A-Z/Sample027 :  1016 \n",
      "\n",
      "Number of files in 0-9_and_A-Z/Sample028 :  1016 \n",
      "\n",
      "Number of files in 0-9_and_A-Z/Sample029 :  1016 \n",
      "\n",
      "Number of files in 0-9_and_A-Z/Sample030 :  1016 \n",
      "\n",
      "Number of files in 0-9_and_A-Z/Sample031 :  1016 \n",
      "\n",
      "Number of files in 0-9_and_A-Z/Sample032 :  1016 \n",
      "\n",
      "Number of files in 0-9_and_A-Z/Sample033 :  1016 \n",
      "\n",
      "Number of files in 0-9_and_A-Z/Sample034 :  1016 \n",
      "\n",
      "Number of files in 0-9_and_A-Z/Sample035 :  1016 \n",
      "\n",
      "Number of files in 0-9_and_A-Z/Sample036 :  1016 \n",
      "\n"
     ]
    }
   ],
   "source": [
    "common_path = '0-9_and_A-Z/Sample'\n",
    "images = []\n",
    "labels = []\n",
    "\n",
    "for n in range(1,37):\n",
    "    f = []\n",
    "    x = \"%03.0f\"%n\n",
    "    mypath = '0-9_and_A-Z/Sample'+x\n",
    "    for (dirpath, dirnames, filenames) in walk(mypath):\n",
    "        f.extend(filenames)\n",
    "        break\n",
    "    print(\"Number of files in \"+mypath+\" : \", len(f), '\\n')\n",
    "    \n",
    "    for i in range(len(f)):\n",
    "        f[i] = mypath+'/'+f[i]\n",
    "        \n",
    "    template_imgs = skimage.io.imread_collection(f) # loads all the images\n",
    "    \n",
    "    rescaled_template_imgs = []\n",
    "    #skimage.io.imshow(template_imgs[0])\n",
    "    \n",
    "    for i in range(len(template_imgs)):\n",
    "        image_rescaled = skimage.transform.rescale(template_imgs[i], 1.0 / 4.0, anti_aliasing=False) # preprocessing\n",
    "        rescaled_template_imgs.append(image_rescaled)\n",
    "        \n",
    "    rescaled_template_imgs = np.array(rescaled_template_imgs)\n",
    "    filtered_imgs = rescaled_template_imgs[mask]   \n",
    "    hotEncodedLabel = np.array([i==n-1 for i in range(36)], dtype=int) # one hot encoding\n",
    "    class_labels = np.full((len(filtered_imgs),len(hotEncodedLabel)), hotEncodedLabel)\n",
    "    \n",
    "    #skimage.io.imshow(rescaled_template_imgs[0])\n",
    "    images.append(filtered_imgs)\n",
    "    labels.append(class_labels)\n",
    "    #print(template_imgs.shape)\n",
    "    "
   ]
  },
  {
   "cell_type": "code",
   "execution_count": 5,
   "metadata": {},
   "outputs": [],
   "source": [
    "images = np.array(images).reshape((-1,1,32,32)) \n",
    "labels = np.array(labels).reshape((-1,36))"
   ]
  },
  {
   "cell_type": "code",
   "execution_count": 6,
   "metadata": {},
   "outputs": [
    {
     "data": {
      "text/plain": [
       "(33192, 1, 32, 32)"
      ]
     },
     "execution_count": 6,
     "metadata": {},
     "output_type": "execute_result"
    }
   ],
   "source": [
    "images.shape #(n_samples,n_channels,width,height)"
   ]
  },
  {
   "cell_type": "code",
   "execution_count": 7,
   "metadata": {},
   "outputs": [
    {
     "data": {
      "text/plain": [
       "(33192, 36)"
      ]
     },
     "execution_count": 7,
     "metadata": {},
     "output_type": "execute_result"
    }
   ],
   "source": [
    "labels.shape #(n_samples,n_classes)"
   ]
  },
  {
   "cell_type": "code",
   "execution_count": 8,
   "metadata": {},
   "outputs": [],
   "source": [
    "import string\n",
    "\n",
    "capital_letters = list(string.ascii_uppercase)\n",
    "numbers = list(['%d'%i for i in range(10)])\n",
    "num_and_letters = numbers+capital_letters # list of all the numbers and characters to recognize\n",
    "\n",
    "numbers_and_chars_dict = {}\n",
    "for i in range(36):\n",
    "    numbers_and_chars_dict[i] = num_and_letters[i]"
   ]
  },
  {
   "cell_type": "code",
   "execution_count": 9,
   "metadata": {},
   "outputs": [],
   "source": [
    "images = torch.from_numpy(images)\n",
    "labels = torch.from_numpy(labels)"
   ]
  },
  {
   "cell_type": "code",
   "execution_count": 10,
   "metadata": {},
   "outputs": [],
   "source": [
    "from torch.utils.data import DataLoader, Dataset, TensorDataset, SubsetRandomSampler\n",
    "# used to manage split in training, validation and test set and also to sample batches\n",
    "\n",
    "tensDataset = TensorDataset(images,labels)\n",
    "\n",
    "train_size = int(0.8 * len(tensDataset)) # 80% for training and validation\n",
    "test_size = len(tensDataset) - train_size # 20% for test\n",
    "train_set, test_set = torch.utils.data.random_split(tensDataset, [train_size, test_size])"
   ]
  },
  {
   "cell_type": "code",
   "execution_count": 11,
   "metadata": {},
   "outputs": [
    {
     "name": "stdout",
     "output_type": "stream",
     "text": [
      "Train + validation samples:  26553\n"
     ]
    }
   ],
   "source": [
    "print(\"Train + validation samples: \", train_size)"
   ]
  },
  {
   "cell_type": "code",
   "execution_count": 12,
   "metadata": {},
   "outputs": [],
   "source": [
    "#Training\n",
    "n_training_samples = int(0.8*train_size) #again take 80% of the training+validation for training\n",
    "train_sampler = SubsetRandomSampler(np.arange(n_training_samples, dtype=np.int64))\n",
    "train_loader = DataLoader(train_set, batch_size=16,sampler=train_sampler, num_workers=2)\n",
    "\n",
    "#Validation\n",
    "n_val_samples = train_size - n_training_samples # and 20% for validation\n",
    "val_sampler = SubsetRandomSampler(np.arange(n_training_samples, n_training_samples + n_val_samples, dtype=np.int64))\n",
    "val_loader = DataLoader(train_set, batch_size=128, sampler=val_sampler, num_workers=2)\n",
    "\n",
    "#Test\n",
    "n_test_samples = test_size\n",
    "test_sampler = SubsetRandomSampler(np.arange(n_test_samples, dtype=np.int64))\n",
    "test_loader = DataLoader(test_set, batch_size=4, sampler=test_sampler, num_workers=2)"
   ]
  },
  {
   "cell_type": "code",
   "execution_count": 1,
   "metadata": {},
   "outputs": [],
   "source": [
    "import torch.nn as nn\n",
    "from torch.autograd import Variable\n",
    "import torch.nn.functional as F\n",
    "\n",
    "class Net(nn.Module):\n",
    "\n",
    "    def __init__(self):\n",
    "        super(Net, self).__init__()\n",
    "        # 1 input image channel, 6 output channels, 3x3 square convolution\n",
    "        # kernel\n",
    "        self.conv1 = nn.Conv2d(1, 6, kernel_size = 3, stride = 1, padding = 1 )\n",
    "        self.pool1 = nn.MaxPool2d(kernel_size=2, stride=2, padding=0)\n",
    "        self.conv2 = nn.Conv2d(6, 12, kernel_size = 3, stride = 1, padding = 1 )\n",
    "        self.pool2 = nn.MaxPool2d(kernel_size=2, stride=2, padding=0)\n",
    "        # an affine operation: y = Wx + b\n",
    "        self.fc1 = nn.Linear(12 * 8 * 8, 256)  # 8*8 from image dimension\n",
    "        self.fc2 = nn.Linear(256, 64)\n",
    "        self.fc3 = nn.Linear(64, 36)\n",
    "\n",
    "    def forward(self, x):\n",
    "        \n",
    "        x = F.relu(self.conv1(x))\n",
    "        x = self.pool1(x)\n",
    "                   \n",
    "        x = F.relu(self.conv2(x))\n",
    "        x = self.pool2(x)\n",
    "                   \n",
    "        x = x.view(-1, self.num_flat_features(x))\n",
    "                   \n",
    "        x = F.relu(self.fc1(x))\n",
    "        x = F.relu(self.fc2(x))\n",
    "        x = self.fc3(x)\n",
    "        return x\n",
    "\n",
    "    def num_flat_features(self, x):\n",
    "        size = x.size()[1:]  # all dimensions except the batch dimension\n",
    "        num_features = 1\n",
    "        for s in size:\n",
    "            num_features *= s\n",
    "        return num_features"
   ]
  },
  {
   "cell_type": "code",
   "execution_count": 2,
   "metadata": {},
   "outputs": [
    {
     "name": "stdout",
     "output_type": "stream",
     "text": [
      "Net(\n",
      "  (conv1): Conv2d(1, 6, kernel_size=(3, 3), stride=(1, 1), padding=(1, 1))\n",
      "  (pool1): MaxPool2d(kernel_size=2, stride=2, padding=0, dilation=1, ceil_mode=False)\n",
      "  (conv2): Conv2d(6, 12, kernel_size=(3, 3), stride=(1, 1), padding=(1, 1))\n",
      "  (pool2): MaxPool2d(kernel_size=2, stride=2, padding=0, dilation=1, ceil_mode=False)\n",
      "  (fc1): Linear(in_features=768, out_features=256, bias=True)\n",
      "  (fc2): Linear(in_features=256, out_features=64, bias=True)\n",
      "  (fc3): Linear(in_features=64, out_features=36, bias=True)\n",
      ")\n"
     ]
    }
   ],
   "source": [
    "CNN = Net()\n",
    "print(CNN)"
   ]
  },
  {
   "cell_type": "code",
   "execution_count": 29,
   "metadata": {},
   "outputs": [],
   "source": [
    "import torch.optim as optim\n",
    "\n",
    "def createLossAndOptimizer(net, learning_rate=0.001):\n",
    "    \n",
    "    #Loss function\n",
    "    loss = torch.nn.CrossEntropyLoss()\n",
    "    \n",
    "    #Optimizer\n",
    "    optimizer = optim.Adam(net.parameters(), lr=learning_rate)\n",
    "    \n",
    "    return(loss, optimizer)"
   ]
  },
  {
   "cell_type": "code",
   "execution_count": 30,
   "metadata": {},
   "outputs": [],
   "source": [
    "import time\n",
    "\n",
    "def trainNet(net, n_epochs, learning_rate):\n",
    "    \n",
    "    #Print all of the hyperparameters of the training iteration:\n",
    "    print(\"===== HYPERPARAMETERS =====\")\n",
    "    print(\"batch_size=\", 16)\n",
    "    print(\"epochs=\", n_epochs)\n",
    "    print(\"learning_rate=\", learning_rate)\n",
    "    print(\"=\" * 30)\n",
    "    \n",
    "    #Get training data\n",
    "    n_batches = len(train_loader)\n",
    "    \n",
    "    #Create our loss and optimizer functions\n",
    "    loss, optimizer = createLossAndOptimizer(net, learning_rate)\n",
    "    \n",
    "    #Time for printing\n",
    "    training_start_time = time.time()\n",
    "    \n",
    "    #Loop for n_epochs\n",
    "    for epoch in range(n_epochs):\n",
    "        \n",
    "        running_loss = 0.0\n",
    "        print_every = n_batches // 10\n",
    "        start_time = time.time()\n",
    "        total_train_loss = 0\n",
    "        \n",
    "        for i, data in enumerate(train_loader, 0):\n",
    "            \n",
    "            #Get inputs\n",
    "            inputs, labels = data\n",
    "            #print(labels)\n",
    "            #break\n",
    "            #Wrap them in a Variable object\n",
    "            inputs, labels = Variable(inputs), Variable(labels)\n",
    "            \n",
    "            #Set the parameter gradients to zero\n",
    "            optimizer.zero_grad()\n",
    "            \n",
    "            #Forward pass, backward pass, optimize\n",
    "            outputs = net(inputs)\n",
    "            loss_size = loss(outputs, torch.max(labels, 1)[1])\n",
    "            loss_size.backward()\n",
    "            optimizer.step()\n",
    "            \n",
    "            #Print statistics\n",
    "            running_loss += loss_size.data.item()\n",
    "            total_train_loss += loss_size.data.item()\n",
    "            \n",
    "            #Print every 10th batch of an epoch\n",
    "            if (i + 1) % (print_every + 1) == 0:\n",
    "                print(\"Epoch {}, {:d}% \\t train_loss: {:.2f} took: {:.2f}s\".format(\n",
    "                        epoch+1, int(100 * (i+1) / n_batches), running_loss / print_every, time.time() - start_time))\n",
    "                #Reset running loss and time\n",
    "                running_loss = 0.0\n",
    "                start_time = time.time()\n",
    "            \n",
    "        #At the end of the epoch, do a pass on the validation set\n",
    "        total_val_loss = 0\n",
    "        for inputs, labels in val_loader:\n",
    "            \n",
    "            #Wrap tensors in Variables\n",
    "            inputs, labels = Variable(inputs), Variable(labels)\n",
    "            \n",
    "            #Forward pass\n",
    "            val_outputs = net(inputs)\n",
    "            val_loss_size = loss(val_outputs, torch.max(labels, 1)[1])\n",
    "            total_val_loss += val_loss_size.data.item()\n",
    "            \n",
    "        print(\"Validation loss = {:.2f}\".format(total_val_loss / len(val_loader)))\n",
    "        \n",
    "    print(\"Training finished, took {:.2f}s\".format(time.time() - training_start_time))"
   ]
  },
  {
   "cell_type": "code",
   "execution_count": 31,
   "metadata": {
    "scrolled": true
   },
   "outputs": [
    {
     "name": "stdout",
     "output_type": "stream",
     "text": [
      "===== HYPERPARAMETERS =====\n",
      "batch_size= 16\n",
      "epochs= 15\n",
      "learning_rate= 0.001\n",
      "==============================\n",
      "Epoch 1, 10% \t train_loss: 2.87 took: 6.19s\n",
      "Epoch 1, 20% \t train_loss: 1.14 took: 6.14s\n",
      "Epoch 1, 30% \t train_loss: 0.79 took: 6.24s\n",
      "Epoch 1, 40% \t train_loss: 0.66 took: 5.88s\n",
      "Epoch 1, 50% \t train_loss: 0.56 took: 6.28s\n",
      "Epoch 1, 60% \t train_loss: 0.53 took: 6.32s\n",
      "Epoch 1, 70% \t train_loss: 0.46 took: 5.96s\n",
      "Epoch 1, 80% \t train_loss: 0.41 took: 6.04s\n",
      "Epoch 1, 90% \t train_loss: 0.43 took: 5.95s\n",
      "Validation loss = 0.36\n",
      "Epoch 2, 10% \t train_loss: 0.35 took: 6.70s\n",
      "Epoch 2, 20% \t train_loss: 0.38 took: 6.42s\n",
      "Epoch 2, 30% \t train_loss: 0.32 took: 6.37s\n",
      "Epoch 2, 40% \t train_loss: 0.32 took: 6.51s\n",
      "Epoch 2, 50% \t train_loss: 0.29 took: 6.62s\n",
      "Epoch 2, 60% \t train_loss: 0.29 took: 6.85s\n",
      "Epoch 2, 70% \t train_loss: 0.28 took: 6.63s\n",
      "Epoch 2, 80% \t train_loss: 0.29 took: 6.50s\n",
      "Epoch 2, 90% \t train_loss: 0.28 took: 6.60s\n",
      "Validation loss = 0.27\n",
      "Epoch 3, 10% \t train_loss: 0.20 took: 6.63s\n",
      "Epoch 3, 20% \t train_loss: 0.24 took: 7.07s\n",
      "Epoch 3, 30% \t train_loss: 0.23 took: 7.66s\n",
      "Epoch 3, 40% \t train_loss: 0.20 took: 6.72s\n",
      "Epoch 3, 50% \t train_loss: 0.22 took: 6.59s\n",
      "Epoch 3, 60% \t train_loss: 0.22 took: 6.47s\n",
      "Epoch 3, 70% \t train_loss: 0.22 took: 6.14s\n",
      "Epoch 3, 80% \t train_loss: 0.21 took: 6.14s\n",
      "Epoch 3, 90% \t train_loss: 0.21 took: 6.17s\n",
      "Validation loss = 0.22\n",
      "Epoch 4, 10% \t train_loss: 0.17 took: 6.28s\n",
      "Epoch 4, 20% \t train_loss: 0.14 took: 6.38s\n",
      "Epoch 4, 30% \t train_loss: 0.15 took: 6.55s\n",
      "Epoch 4, 40% \t train_loss: 0.15 took: 6.20s\n",
      "Epoch 4, 50% \t train_loss: 0.16 took: 6.38s\n",
      "Epoch 4, 60% \t train_loss: 0.18 took: 6.23s\n",
      "Epoch 4, 70% \t train_loss: 0.17 took: 6.27s\n",
      "Epoch 4, 80% \t train_loss: 0.19 took: 6.82s\n",
      "Epoch 4, 90% \t train_loss: 0.17 took: 6.92s\n",
      "Validation loss = 0.21\n",
      "Epoch 5, 10% \t train_loss: 0.12 took: 6.93s\n",
      "Epoch 5, 20% \t train_loss: 0.12 took: 6.38s\n",
      "Epoch 5, 30% \t train_loss: 0.12 took: 6.41s\n",
      "Epoch 5, 40% \t train_loss: 0.17 took: 6.80s\n",
      "Epoch 5, 50% \t train_loss: 0.12 took: 7.04s\n",
      "Epoch 5, 60% \t train_loss: 0.14 took: 6.50s\n",
      "Epoch 5, 70% \t train_loss: 0.14 took: 6.58s\n",
      "Epoch 5, 80% \t train_loss: 0.12 took: 6.32s\n",
      "Epoch 5, 90% \t train_loss: 0.12 took: 6.31s\n",
      "Validation loss = 0.20\n",
      "Epoch 6, 10% \t train_loss: 0.12 took: 9.96s\n",
      "Epoch 6, 20% \t train_loss: 0.08 took: 10.51s\n",
      "Epoch 6, 30% \t train_loss: 0.08 took: 9.25s\n",
      "Epoch 6, 40% \t train_loss: 0.08 took: 9.36s\n",
      "Epoch 6, 50% \t train_loss: 0.10 took: 9.10s\n",
      "Epoch 6, 60% \t train_loss: 0.11 took: 9.05s\n",
      "Epoch 6, 70% \t train_loss: 0.13 took: 9.25s\n",
      "Epoch 6, 80% \t train_loss: 0.11 took: 9.91s\n",
      "Epoch 6, 90% \t train_loss: 0.12 took: 9.71s\n",
      "Validation loss = 0.17\n",
      "Epoch 7, 10% \t train_loss: 0.07 took: 8.96s\n",
      "Epoch 7, 20% \t train_loss: 0.09 took: 9.82s\n",
      "Epoch 7, 30% \t train_loss: 0.09 took: 9.68s\n",
      "Epoch 7, 40% \t train_loss: 0.09 took: 9.22s\n",
      "Epoch 7, 50% \t train_loss: 0.11 took: 10.39s\n",
      "Epoch 7, 60% \t train_loss: 0.11 took: 9.07s\n",
      "Epoch 7, 70% \t train_loss: 0.09 took: 9.96s\n",
      "Epoch 7, 80% \t train_loss: 0.09 took: 8.97s\n",
      "Epoch 7, 90% \t train_loss: 0.11 took: 8.79s\n",
      "Validation loss = 0.17\n",
      "Epoch 8, 10% \t train_loss: 0.05 took: 9.71s\n",
      "Epoch 8, 20% \t train_loss: 0.09 took: 9.56s\n",
      "Epoch 8, 30% \t train_loss: 0.08 took: 9.35s\n",
      "Epoch 8, 40% \t train_loss: 0.07 took: 9.42s\n",
      "Epoch 8, 50% \t train_loss: 0.10 took: 9.18s\n",
      "Epoch 8, 60% \t train_loss: 0.07 took: 8.94s\n",
      "Epoch 8, 70% \t train_loss: 0.08 took: 8.64s\n",
      "Epoch 8, 80% \t train_loss: 0.10 took: 8.84s\n",
      "Epoch 8, 90% \t train_loss: 0.11 took: 9.63s\n",
      "Validation loss = 0.16\n",
      "Epoch 9, 10% \t train_loss: 0.05 took: 9.93s\n",
      "Epoch 9, 20% \t train_loss: 0.06 took: 9.77s\n",
      "Epoch 9, 30% \t train_loss: 0.05 took: 9.59s\n",
      "Epoch 9, 40% \t train_loss: 0.07 took: 9.27s\n",
      "Epoch 9, 50% \t train_loss: 0.06 took: 10.06s\n",
      "Epoch 9, 60% \t train_loss: 0.07 took: 9.96s\n",
      "Epoch 9, 70% \t train_loss: 0.09 took: 10.44s\n",
      "Epoch 9, 80% \t train_loss: 0.09 took: 10.73s\n",
      "Epoch 9, 90% \t train_loss: 0.07 took: 10.70s\n",
      "Validation loss = 0.19\n",
      "Epoch 10, 10% \t train_loss: 0.07 took: 11.21s\n",
      "Epoch 10, 20% \t train_loss: 0.06 took: 11.17s\n",
      "Epoch 10, 30% \t train_loss: 0.06 took: 11.24s\n",
      "Epoch 10, 40% \t train_loss: 0.07 took: 11.94s\n",
      "Epoch 10, 50% \t train_loss: 0.07 took: 12.02s\n",
      "Epoch 10, 60% \t train_loss: 0.07 took: 14.36s\n",
      "Epoch 10, 70% \t train_loss: 0.08 took: 13.09s\n",
      "Epoch 10, 80% \t train_loss: 0.07 took: 13.18s\n",
      "Epoch 10, 90% \t train_loss: 0.07 took: 11.98s\n",
      "Validation loss = 0.19\n",
      "Epoch 11, 10% \t train_loss: 0.08 took: 12.87s\n",
      "Epoch 11, 20% \t train_loss: 0.05 took: 14.30s\n",
      "Epoch 11, 30% \t train_loss: 0.08 took: 13.68s\n",
      "Epoch 11, 40% \t train_loss: 0.05 took: 13.35s\n",
      "Epoch 11, 50% \t train_loss: 0.06 took: 14.50s\n",
      "Epoch 11, 60% \t train_loss: 0.05 took: 16.29s\n",
      "Epoch 11, 70% \t train_loss: 0.06 took: 17.49s\n",
      "Epoch 11, 80% \t train_loss: 0.06 took: 17.21s\n",
      "Epoch 11, 90% \t train_loss: 0.05 took: 17.67s\n",
      "Validation loss = 0.17\n",
      "Epoch 12, 10% \t train_loss: 0.06 took: 16.68s\n",
      "Epoch 12, 20% \t train_loss: 0.04 took: 16.42s\n",
      "Epoch 12, 30% \t train_loss: 0.07 took: 15.95s\n",
      "Epoch 12, 40% \t train_loss: 0.04 took: 17.45s\n",
      "Epoch 12, 50% \t train_loss: 0.05 took: 17.09s\n",
      "Epoch 12, 60% \t train_loss: 0.08 took: 16.57s\n",
      "Epoch 12, 70% \t train_loss: 0.06 took: 18.17s\n",
      "Epoch 12, 80% \t train_loss: 0.05 took: 18.13s\n",
      "Epoch 12, 90% \t train_loss: 0.05 took: 16.35s\n",
      "Validation loss = 0.20\n",
      "Epoch 13, 10% \t train_loss: 0.05 took: 17.30s\n",
      "Epoch 13, 20% \t train_loss: 0.06 took: 17.88s\n",
      "Epoch 13, 30% \t train_loss: 0.05 took: 16.51s\n",
      "Epoch 13, 40% \t train_loss: 0.06 took: 17.36s\n",
      "Epoch 13, 50% \t train_loss: 0.04 took: 17.69s\n",
      "Epoch 13, 60% \t train_loss: 0.05 took: 16.33s\n",
      "Epoch 13, 70% \t train_loss: 0.06 took: 17.33s\n",
      "Epoch 13, 80% \t train_loss: 0.05 took: 17.46s\n",
      "Epoch 13, 90% \t train_loss: 0.05 took: 17.59s\n",
      "Validation loss = 0.22\n",
      "Epoch 14, 10% \t train_loss: 0.05 took: 17.43s\n",
      "Epoch 14, 20% \t train_loss: 0.05 took: 17.06s\n",
      "Epoch 14, 30% \t train_loss: 0.06 took: 17.38s\n",
      "Epoch 14, 40% \t train_loss: 0.05 took: 17.50s\n",
      "Epoch 14, 50% \t train_loss: 0.04 took: 17.14s\n",
      "Epoch 14, 60% \t train_loss: 0.06 took: 17.16s\n",
      "Epoch 14, 70% \t train_loss: 0.06 took: 17.96s\n",
      "Epoch 14, 80% \t train_loss: 0.08 took: 17.88s\n",
      "Epoch 14, 90% \t train_loss: 0.06 took: 17.10s\n",
      "Validation loss = 0.19\n",
      "Epoch 15, 10% \t train_loss: 0.05 took: 18.03s\n",
      "Epoch 15, 20% \t train_loss: 0.04 took: 17.36s\n",
      "Epoch 15, 30% \t train_loss: 0.04 took: 17.10s\n",
      "Epoch 15, 40% \t train_loss: 0.04 took: 18.51s\n",
      "Epoch 15, 50% \t train_loss: 0.05 took: 19.92s\n",
      "Epoch 15, 60% \t train_loss: 0.05 took: 19.77s\n",
      "Epoch 15, 70% \t train_loss: 0.04 took: 19.06s\n",
      "Epoch 15, 80% \t train_loss: 0.05 took: 17.45s\n",
      "Epoch 15, 90% \t train_loss: 0.06 took: 18.91s\n",
      "Validation loss = 0.21\n",
      "Training finished, took 1734.18s\n"
     ]
    }
   ],
   "source": [
    "CNN = CNN.double()\n",
    "trainNet(CNN, n_epochs=15, learning_rate=0.001)"
   ]
  },
  {
   "cell_type": "code",
   "execution_count": 32,
   "metadata": {},
   "outputs": [
    {
     "name": "stdout",
     "output_type": "stream",
     "text": [
      "B\n"
     ]
    },
    {
     "data": {
      "image/png": "[encoded data removed]",
      "text/plain": [
       "<Figure size 432x288 with 1 Axes>"
      ]
     },
     "metadata": {
      "needs_background": "light"
     },
     "output_type": "display_data"
    },
    {
     "name": "stdout",
     "output_type": "stream",
     "text": [
      "F\n"
     ]
    },
    {
     "data": {
      "image/png": "[encoded data removed]",
      "text/plain": [
       "<Figure size 432x288 with 1 Axes>"
      ]
     },
     "metadata": {
      "needs_background": "light"
     },
     "output_type": "display_data"
    },
    {
     "name": "stdout",
     "output_type": "stream",
     "text": [
      "H\n"
     ]
    },
    {
     "data": {
      "image/png": "[encoded data removed]",
      "text/plain": [
       "<Figure size 432x288 with 1 Axes>"
      ]
     },
     "metadata": {
      "needs_background": "light"
     },
     "output_type": "display_data"
    },
    {
     "name": "stdout",
     "output_type": "stream",
     "text": [
      "Y\n"
     ]
    },
    {
     "data": {
      "image/png": "[encoded data removed]",
      "text/plain": [
       "<Figure size 432x288 with 1 Axes>"
      ]
     },
     "metadata": {
      "needs_background": "light"
     },
     "output_type": "display_data"
    }
   ],
   "source": [
    "with torch.no_grad():\n",
    "    dataiter = iter(test_loader)\n",
    "    inputs, labels = dataiter.next()\n",
    "    outputs = CNN(inputs)\n",
    "    _, outputs = torch.max(outputs.data, 1)\n",
    "    scalar_label = outputs.numpy()\n",
    "    for i in range(4):\n",
    "        print(numbers_and_chars_dict[scalar_label[i]])\n",
    "        plt.imshow(inputs[i,0], cmap='gray')\n",
    "        plt.show()"
   ]
  },
  {
   "cell_type": "code",
   "execution_count": 33,
   "metadata": {},
   "outputs": [
    {
     "name": "stdout",
     "output_type": "stream",
     "text": [
      "Accuracy of the network on the 6639 test images: 95 %\n"
     ]
    }
   ],
   "source": [
    "correct = 0\n",
    "total = 0\n",
    "with torch.no_grad():\n",
    "    for data in test_loader:\n",
    "        images, labels = data\n",
    "        outputs = CNN(images)\n",
    "        _, predicted = torch.max(outputs.data, 1)\n",
    "        predicted = predicted.numpy()\n",
    "        scalar_labels = np.dot(labels,np.arange(0,36))\n",
    "        total += len(scalar_labels)\n",
    "        correct += (predicted == scalar_labels).sum()\n",
    "\n",
    "print('Accuracy of the network on the %d test images: %d %%' % (test_size,\n",
    "    100 * correct / total))\n"
   ]
  },
  {
   "cell_type": "code",
   "execution_count": 40,
   "metadata": {},
   "outputs": [
    {
     "name": "stdout",
     "output_type": "stream",
     "text": [
      "Z\n"
     ]
    },
    {
     "data": {
      "image/png": "[encoded data removed]",
      "text/plain": [
       "<Figure size 432x288 with 1 Axes>"
      ]
     },
     "metadata": {
      "needs_background": "light"
     },
     "output_type": "display_data"
    }
   ],
   "source": [
    "# and to get the prediction for a single image\n",
    "input_img = images[0].reshape((-1,)+images[0].shape)\n",
    "#label = labels[0]\n",
    "outputs = CNN(input_img)\n",
    "_, predicted = torch.max(outputs.data, 1)\n",
    "predicted = predicted.numpy()\n",
    "char = numbers_and_chars_dict[predicted[0]]\n",
    "print(char)\n",
    "plt.imshow(input_img[0,0], cmap='gray')\n",
    "plt.show()"
   ]
  },
  {
   "cell_type": "code",
   "execution_count": 41,
   "metadata": {},
   "outputs": [
    {
     "data": {
      "text/plain": [
       "IncompatibleKeys(missing_keys=[], unexpected_keys=[])"
      ]
     },
     "execution_count": 41,
     "metadata": {},
     "output_type": "execute_result"
    }
   ],
   "source": [
    "# Save model\n",
    "torch.save(CNN.state_dict(), 'saved_model.pth')\n",
    "\n",
    "#Load model (works only if the model's structures are the same)\n",
    "state_dict = torch.load('saved_model.pth')\n",
    "CNN1 = Net().double() # new net still works!\n",
    "CNN1.load_state_dict(state_dict)"
   ]
  },
  {
   "cell_type": "code",
   "execution_count": 42,
   "metadata": {},
   "outputs": [
    {
     "name": "stdout",
     "output_type": "stream",
     "text": [
      "Z\n"
     ]
    },
    {
     "data": {
      "image/png": "[encoded data removed]",
      "text/plain": [
       "<Figure size 432x288 with 1 Axes>"
      ]
     },
     "metadata": {
      "needs_background": "light"
     },
     "output_type": "display_data"
    }
   ],
   "source": [
    "# and to get the prediction for a single image\n",
    "input_img = images[0].reshape((-1,)+images[0].shape)\n",
    "#label = labels[0]\n",
    "outputs = CNN1(input_img)\n",
    "_, predicted = torch.max(outputs.data, 1)\n",
    "predicted = predicted.numpy()\n",
    "char = numbers_and_chars_dict[predicted[0]]\n",
    "print(char)\n",
    "plt.imshow(input_img[0,0], cmap='gray')\n",
    "plt.show()"
   ]
  },
  {
   "cell_type": "code",
   "execution_count": null,
   "metadata": {},
   "outputs": [],
   "source": []
  }
 ],
 "metadata": {
  "kernelspec": {
   "display_name": "Python 3",
   "language": "python",
   "name": "python3"
  },
  "language_info": {
   "codemirror_mode": {
    "name": "ipython",
    "version": 3
   },
   "file_extension": ".py",
   "mimetype": "text/x-python",
   "name": "python",
   "nbconvert_exporter": "python",
   "pygments_lexer": "ipython3",
   "version": "3.7.3"
  }
 },
 "nbformat": 4,
 "nbformat_minor": 2
}
